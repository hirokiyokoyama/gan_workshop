{
  "nbformat": 4,
  "nbformat_minor": 0,
  "metadata": {
    "colab": {
      "name": "gan_workshop_2.ipynb",
      "provenance": [],
      "collapsed_sections": [],
      "include_colab_link": true
    },
    "kernelspec": {
      "name": "python3",
      "display_name": "Python 3"
    },
    "accelerator": "GPU"
  },
  "cells": [
    {
      "cell_type": "markdown",
      "metadata": {
        "id": "view-in-github",
        "colab_type": "text"
      },
      "source": [
        "<a href=\"https://colab.research.google.com/github/hirokiyokoyama/gan_workshop/blob/master/gan_workshop_2.ipynb\" target=\"_parent\"><img src=\"https://colab.research.google.com/assets/colab-badge.svg\" alt=\"Open In Colab\"/></a>"
      ]
    },
    {
      "cell_type": "markdown",
      "metadata": {
        "id": "Xa-BshP9X3F5",
        "colab_type": "text"
      },
      "source": [
        "# 敵対的生成ネットワーク研究会\n",
        "第一回のURL：\n",
        "https://colab.research.google.com/drive/1egFCcIXzM7xtlXWRp9wFjDSocL5j94oP\n",
        "\n",
        "第二回のURL：\n",
        "https://colab.research.google.com/drive/1t_QRi-V77uqIvJIhqvtwUVYOcsKZmK_A\n",
        "\n",
        "横山のgithub（こちらにもノートブックが置いてあります）\n",
        "https://github.com/hirokiyokoyama/gan_workshop\n"
      ]
    },
    {
      "cell_type": "code",
      "metadata": {
        "id": "FG1eoEABKYIS",
        "colab_type": "code",
        "cellView": "form",
        "colab": {}
      },
      "source": [
        "#@title 今回使うものの準備\n",
        "\n",
        "# GPUを用いて高速に実行できる機械学習ライブラリ\n",
        "import tensorflow as tf\n",
        "tf.enable_eager_execution()\n",
        "\n",
        "# 結果をプロットするためのライブラリ\n",
        "import matplotlib.pyplot as plt\n",
        "\n",
        "import numpy as np\n",
        "layers = tf.keras.layers\n",
        "\n",
        "# 学習の安定のため、中間層の値を正規化するLayer\n",
        "class PixelwiseNormalization(tf.keras.layers.Layer):\n",
        "  def __init__(self):\n",
        "    super(PixelwiseNormalization, self).__init__()\n",
        "  \n",
        "  def call(self, x):\n",
        "    n = tf.reduce_mean(tf.square(x), -1, keepdims=True)\n",
        "    n = tf.rsqrt(n + 1e-5)\n",
        "    return x * n\n",
        "\n",
        "# ミニバッチ内の特徴量の標準偏差をdiscriminatorの判別基準にするためのLayer\n",
        "# これによって本物の特徴量が多様ならば、偽物の特徴量も多様になるようにgeneratorが学習するようになる（mode collapse防止）\n",
        "# Discriminatorの最終層の手前などに入れて使う\n",
        "class MinibatchStddev(tf.keras.layers.Layer):\n",
        "  def __init__(self, group_size=1, num_new_features=1):\n",
        "    super(MinibatchStddev, self).__init__()\n",
        "    self._group_size = group_size\n",
        "    self._num_new_features = num_new_features\n",
        "\n",
        "  def call(self, x):\n",
        "    s = tf.shape(x) # [NHWC]  Input shape.\n",
        "    n = self._num_new_features\n",
        "    G = tf.minimum(self._group_size, s[0])\n",
        "\n",
        "    # [GMHWnc] Split minibatch into M groups of size G. Split channels into n channel groups c.\n",
        "    y = tf.reshape(x, [G, -1, s[1], s[2], n, s[3]//n])\n",
        "    # [MHWnc]  Calc stddev over group.\n",
        "    y -= tf.reduce_mean(y, axis=0, keepdims=True)\n",
        "    y = tf.reduce_mean(tf.square(y), axis=0)\n",
        "    y = tf.sqrt(y + 1e-8)\n",
        "    # [M11n]  Take average over fmaps and pixels.\n",
        "    y = tf.reduce_mean(y, axis=[1,2,4], keepdims=True)[:,:,:,:,0]\n",
        "    # [NHWn]  Replicate over group and pixels.\n",
        "    y = tf.tile(y, [G, s[1], s[2], 1])\n",
        "    # [NHWC]  Append as new fmap.\n",
        "    return tf.concat([x, y], axis=3)\n",
        "\n",
        "# 畳み込み層ごとの学習率を最適化するための細工 (Karras et al., 2018)\n",
        "class Conv2D(layers.Conv2D):\n",
        "  def __init__(self, *args, **kwargs):\n",
        "    kwargs['kernel_initializer'] = tf.keras.initializers.RandomNormal(stddev=1.)\n",
        "    super(Conv2D, self).__init__(*args, **kwargs)\n",
        "\n",
        "  def build(self, input_shape):\n",
        "    super(Conv2D, self).build(input_shape)\n",
        "    shape = self.kernel.shape.as_list()\n",
        "    self._normalization_constant = np.sqrt(2./(shape[0] * shape[1] * shape[2]))\n",
        "  \n",
        "  def call(self, x):\n",
        "    x = x * self._normalization_constant\n",
        "    x = super(Conv2D, self).call(x)\n",
        "    return x"
      ],
      "execution_count": 0,
      "outputs": []
    },
    {
      "cell_type": "code",
      "metadata": {
        "id": "pFuBQRrXDfb-",
        "colab_type": "code",
        "cellView": "form",
        "colab": {}
      },
      "source": [
        "#@title データセットの準備\n",
        "\n",
        "# 画像のチャネル数（MNIST、Fashion-MNISTは1、カラー画像は3）\n",
        "input_channels = 1\n",
        "\n",
        "#Fashion-MNIST データセット\n",
        "import tensorflow_datasets as tfds\n",
        "#ds = tfds.image.mnist.FashionMNIST()\n",
        "ds = tfds.image.mnist.MNIST()\n",
        "ds.download_and_prepare()\n",
        "dataset = ds.as_dataset()['train']\n",
        "def preprocess(data):\n",
        "  img = tf.cast(data['image'], tf.float32)/255. * 2. - 1. #黒を-1.0、白を+1.0とする\n",
        "  return tf.image.resize_bilinear([img], (16, 16))[0], data['label']\n",
        "dataset = dataset.map(preprocess)"
      ],
      "execution_count": 0,
      "outputs": []
    },
    {
      "cell_type": "markdown",
      "metadata": {
        "id": "gMlmjmA4TBkI",
        "colab_type": "text"
      },
      "source": [
        "# 敵対的生成ネットワーク（Generative Adversarial Networks; GAN）\n",
        "\n",
        "乱数から画像を生成するgeneratorと、画像が本物か偽物かを判別するdiscriminatorが、互いに敵対するように構成されたネットワーク。\n",
        "\n",
        "### GANの研究開発に必要なもの\n",
        "- 機械学習の基礎知識\n",
        "- 人工ニューラルネットワークの知識\n",
        "- 計算リソース（GPUやそれを動かすためのフレームワークなど、今回はGoogle Colaboratory+TensorFlow）\n",
        "- GANの知識（今回の内容）\n",
        "\n",
        "### 用語集\n",
        "|用語（呼び方）|記号（数式）|説明|\n",
        "|:--|:--|:--|\n",
        "| real、本物 | $x$ | データセットから取り出される「本物」の画像 |\n",
        "| noise、乱数 | $z$ | Generatorに入力される乱数、常に乱数とは限らないので、隠れ変数（latent variable）とも |\n",
        "| generator、生成器 | $G$ | 乱数を入力とし画像を出力とする関数 |\n",
        "| discriminator、判別器 | $D$ | 画像を入力としスカラーを出力とする関数 |\n",
        "| fake、偽物 | $G(z)$ | Generatorが生成する「偽物」の画像 |\n",
        "|判別値、本物度| $D(x), D(G(z))$ | Discriminatorが表現する、画像の「本物度」 |\n",
        "\n",
        "### 今までの目的関数（おさらい）\n",
        "- 二次関数（単純に極小点に収束するという例でした）\n",
        "- 二つの関数の距離（一方はサンプルを生成している真の関数、もう一方はパラメータで表現した関数、後者を前者に「フィッティング」する）\n",
        "- クロスエントロピー（識別問題を関数のフィッティングとみたときの、二つの関数の距離のようなもの）\n",
        "\n",
        "### GANにおける二つの目的関数\n",
        "- Discriminatorの目的関数：Realの本物度は大きく、fakeの本物度は小さく。クロスエントロピーとほぼ同じ。\n",
        "- Generatorの目的関数：Fakeの本物度を大きくして、discriminatorを「騙そう」とする。こちらは関数のフィッティングとは少し異なる。\n",
        "\n",
        "同じ関数を一方では大きく、もう一方では小さくしようとするので敵対的（adversarial）。"
      ]
    },
    {
      "cell_type": "markdown",
      "metadata": {
        "id": "OnTJjPHqXGHu",
        "colab_type": "text"
      },
      "source": [
        "# Generator"
      ]
    },
    {
      "cell_type": "markdown",
      "metadata": {
        "id": "ekyiUyr-mKHt",
        "colab_type": "text"
      },
      "source": [
        "機械学習はランダムに初期化された関数から初めて、目的関数を設定して勾配法によって良くして行く、という方法を取るので、とにかく入力からどのようにして出力を計算するか（フォワード経路）をまず考える。フォワード経路と目的関数さえ決めれば、勾配の計算（バックワード経路）とパラメータの更新はTensorFlowに任せられる。\n",
        "\n",
        "第一回の識別ネットワークと異なり、出力が画像となるので、幅と高さを大きくして行く方針を考える。画像の場合、チャネル数は最終的に１（グレースケール）か３（RGB）まで減らして行く。\n",
        "1. n個の乱数を生成（幅1、高さ1、チャネル数nの特徴マップと考える）\n",
        "2. 何回か畳み込み（Conv2D）を行う\n",
        "3. 各ピクセルを2x2ピクセルにコピーすることで、幅、高さをそれぞれ2倍にする（UpSampling2D）\n",
        "4. 目的の画像サイズになるまで2と3を繰り返す\n",
        "5. 各点ごとに目的のチャネル数（グレースケールなら1、RGBなら3）になるように1x1のカーネルで畳み込み（Conv2D）を行う\n",
        "6. ハイパボリックタンジェント（tanh）を使って出力値を(-1,+1)の範囲に制約する\n"
      ]
    },
    {
      "cell_type": "code",
      "metadata": {
        "id": "CW8IpdSTCw8o",
        "colab_type": "code",
        "cellView": "both",
        "colab": {}
      },
      "source": [
        "#@title ハイパボリックタンジェント\n",
        "x = tf.linspace(-5.,5.,100)\n",
        "y = tf.tanh(x)\n",
        "plt.plot(x, y);"
      ],
      "execution_count": 0,
      "outputs": []
    },
    {
      "cell_type": "code",
      "metadata": {
        "id": "5-vDcuTRimkT",
        "colab_type": "code",
        "colab": {}
      },
      "source": [
        "noise_dim = 128\n",
        "\n",
        "generator = tf.keras.Sequential([\n",
        "    Conv2D(256, 3, 1, 'SAME', use_bias=True),\n",
        "    layers.LeakyReLU(0.2),\n",
        "    PixelwiseNormalization(),\n",
        "\n",
        "    layers.UpSampling2D(2),\n",
        "    Conv2D(128, 3, 1, 'SAME', use_bias=True),\n",
        "    layers.LeakyReLU(0.2),\n",
        "    PixelwiseNormalization(),\n",
        "\n",
        "    layers.UpSampling2D(2),\n",
        "    Conv2D(64, 3, 1, 'SAME', use_bias=True),\n",
        "    layers.LeakyReLU(0.2),\n",
        "    PixelwiseNormalization(),\n",
        "\n",
        "    layers.UpSampling2D(2),\n",
        "    Conv2D(32, 3, 1, 'SAME', use_bias=True),\n",
        "    layers.LeakyReLU(0.2),\n",
        "    PixelwiseNormalization(),\n",
        "\n",
        "    layers.UpSampling2D(2),\n",
        "    Conv2D(16, 3, 1, 'SAME', use_bias=True),\n",
        "    layers.LeakyReLU(0.2),\n",
        "    PixelwiseNormalization(),\n",
        "\n",
        "    Conv2D(input_channels, [1,1], 1, 'SAME', use_bias=True),\n",
        "    layers.Activation('tanh')\n",
        "  ])"
      ],
      "execution_count": 0,
      "outputs": []
    },
    {
      "cell_type": "markdown",
      "metadata": {
        "id": "9CbpXKQMXP5e",
        "colab_type": "text"
      },
      "source": [
        "##とにかく画像を学習させてみる（画像の丸暗記）\n",
        "\n",
        "畳み込みニューラルネットワークは画像を出力できるか？まずは関数のフィッティングで学習して確認してみる。\n",
        "\n",
        "入力が128次元なので、128個の単位ベクトル（$(1,0,\\cdots,0), (0,1,0,\\cdots,0),\\cdots$）に128枚の適当な画像を対応づけてみる。\n",
        "目的関数はgeneratorが生成した画像と正解画像との二乗誤差（mean squared error）。"
      ]
    },
    {
      "cell_type": "code",
      "metadata": {
        "id": "NeAmLfmZDr5a",
        "colab_type": "code",
        "colab": {}
      },
      "source": [
        "generator.compile(tf.train.AdamOptimizer(0.001), loss='mean_squared_error')\n",
        "\n",
        "inputs = tf.one_hot(tf.range(noise_dim), noise_dim) # tf.one_hot(i)はe[i]だけ1.で他が0.のベクトル（つまり単位ベクトル）を生成\n",
        "inputs = tf.reshape(inputs, [noise_dim, 1, 1, noise_dim])\n",
        "for x, y in dataset.batch(noise_dim).take(1):\n",
        "  image = x"
      ],
      "execution_count": 0,
      "outputs": []
    },
    {
      "cell_type": "code",
      "metadata": {
        "id": "fdFCIAzQGDk6",
        "colab_type": "code",
        "colab": {}
      },
      "source": [
        "generator.fit(x=inputs, y=image, epochs=1000, verbose=0)"
      ],
      "execution_count": 0,
      "outputs": []
    },
    {
      "cell_type": "code",
      "metadata": {
        "id": "_lBPhviuH_YW",
        "colab_type": "code",
        "cellView": "form",
        "colab": {}
      },
      "source": [
        "#@title 正解画像と生成画像を比較\n",
        "y = generator(inputs)\n",
        "plt.figure(figsize=(15,5))\n",
        "n = 10\n",
        "for i in range(n):\n",
        "  plt.subplot(2,n,i+1)\n",
        "  plt.imshow(image[i,:,:,0])\n",
        "  plt.axis('off')\n",
        "  plt.subplot(2,n,n+i+1)\n",
        "  plt.imshow(y[i,:,:,0])\n",
        "  plt.axis('off')"
      ],
      "execution_count": 0,
      "outputs": []
    },
    {
      "cell_type": "code",
      "metadata": {
        "id": "exDxasbdJ3wR",
        "colab_type": "code",
        "cellView": "form",
        "colab": {}
      },
      "source": [
        "#@title 入力を徐々に変化させてみる\n",
        "import numpy as np\n",
        "i1 = 0\n",
        "i2 = 1\n",
        "n = 10\n",
        "\n",
        "x = np.zeros([n,1,1,noise_dim], np.float32)\n",
        "x[:,0,0,i1] = np.linspace(0.,1.,n)\n",
        "x[:,0,0,i2] = np.linspace(1.,0.,n)\n",
        "y = generator(tf.constant(x))\n",
        "plt.figure(figsize=(15,5))\n",
        "for i in range(n):\n",
        "  plt.subplot(1,n,i+1)\n",
        "  plt.imshow(y[i,:,:,0])\n",
        "  plt.axis('off')"
      ],
      "execution_count": 0,
      "outputs": []
    },
    {
      "cell_type": "code",
      "metadata": {
        "id": "YUowkMUzL4Vx",
        "colab_type": "code",
        "cellView": "form",
        "colab": {}
      },
      "source": [
        "#@title 任意の乱数について意味のある画像を生成できるか？\n",
        "n = 10\n",
        "y = generator(tf.random.normal([n,1,1,noise_dim]))\n",
        "plt.figure(figsize=(15,5))\n",
        "for i in range(n):\n",
        "  plt.subplot(1,n,i+1)\n",
        "  plt.imshow(y[i,:,:,0])\n",
        "  plt.axis('off')"
      ],
      "execution_count": 0,
      "outputs": []
    },
    {
      "cell_type": "markdown",
      "metadata": {
        "id": "mTTnVC9HA4pC",
        "colab_type": "text"
      },
      "source": [
        "- 128次元のベクトルを入力して画像を出力する関数が畳み込みニューラルネットワーク（CNN）で実現できた\n",
        "- このCNN単体でGANの機能を学習することはできない\n",
        "- この後discriminatorを構築し、GANのgeneratorとして動作させる"
      ]
    },
    {
      "cell_type": "markdown",
      "metadata": {
        "id": "AnXSPEhHabMQ",
        "colab_type": "text"
      },
      "source": [
        "# Discriminator\n",
        "\n",
        "Discriminatorは入力画像がデータセットから選ばれたもの（real）か、generatorが生成したもの（fake）かを学習する。\n",
        "Discriminator自体の学習は2クラスの分類問題となるので、前回の分類機と基本的に同じ。ただし、2クラスの場合、出力は一つの数値で良い。何故ならば、realであれば出力値を大きく、fakeであれば出力値を小さくすれば判別できるため。\n",
        "\n",
        "Generatorでは$1\\times1$の特徴マップ（入力乱数）から始めて、縦横を2倍にする演算（UpSampling2D）を繰り返すことで、一定サイズの画像を生成した。Discriminatorではこれと対称的に、縦横を半分にする演算（AveragePooling2D）を繰り返して特徴マップを小さくして行く方針をとる。\n",
        "\n",
        "1. $m\\times m \\times c$の画像を入力（cは画像のチャネル数）\n",
        "2. $1\\times1$のカーネルで畳み込んで$m\\times m \\times C$とする\n",
        "3. 何層かの畳み込み層（Conv2D）を計算\n",
        "4. 2x2ピクセルの領域ごとに平均をとることで、幅、高さをそれぞれ半分にする（AveragePooling2D）\n",
        "5. 特徴マップのサイズが$1\\times 1$になるまで3と4を繰り返す\n",
        "5. 判別値はスカラーなので、チャネル数が1になるように1x1のカーネルで畳み込み（Conv2D）を行う\n",
        "\n",
        "Generatorとdiscriminatorの構造は必ずしも対称的である必要はないが、対称的にされることが多い。\n"
      ]
    },
    {
      "cell_type": "code",
      "metadata": {
        "id": "zmeE-TGc1fTx",
        "colab_type": "code",
        "colab": {}
      },
      "source": [
        "discriminator = tf.keras.Sequential([\n",
        "    Conv2D(16, [1,1], 1, 'SAME', use_bias=True),\n",
        "    layers.LeakyReLU(0.2),\n",
        "\n",
        "    Conv2D(32, 3, 1, 'SAME', use_bias=True),\n",
        "    layers.LeakyReLU(0.2),\n",
        "    layers.AveragePooling2D(2),\n",
        "    \n",
        "    Conv2D(64, 3, 1, 'SAME', use_bias=True),\n",
        "    layers.LeakyReLU(0.2),\n",
        "    layers.AveragePooling2D(2),\n",
        "    \n",
        "    Conv2D(128, 3, 1, 'SAME', use_bias=True),\n",
        "    layers.LeakyReLU(0.2),\n",
        "    layers.AveragePooling2D(2),\n",
        "\n",
        "    Conv2D(256, 3, 1, 'SAME', use_bias=True),\n",
        "    layers.LeakyReLU(0.2),\n",
        "    layers.AveragePooling2D(2),\n",
        "\n",
        "    Conv2D(1, 3, 1, 'SAME', use_bias=False)\n",
        "])"
      ],
      "execution_count": 0,
      "outputs": []
    },
    {
      "cell_type": "markdown",
      "metadata": {
        "id": "SO_6C3OjWw9C",
        "colab_type": "text"
      },
      "source": [
        "##本物と偽物を判別させてみる"
      ]
    },
    {
      "cell_type": "code",
      "metadata": {
        "id": "zHyPdplxwyq6",
        "colab_type": "code",
        "colab": {}
      },
      "source": [
        "discriminator.compile(tf.train.AdamOptimizer(0.001), loss='binary_crossentropy')\n",
        "\n",
        "for x, y in dataset.batch(10000).take(1):\n",
        "  real = x\n",
        "fake = generator(tf.random.normal([10000,1,1,noise_dim]))\n",
        "inputs = tf.concat([real, fake], 0)\n",
        "outputs = tf.concat([tf.ones([10000,1,1,1]), tf.zeros([10000,1,1,1])], 0)"
      ],
      "execution_count": 0,
      "outputs": []
    },
    {
      "cell_type": "code",
      "metadata": {
        "id": "IPA0ugo32kpz",
        "colab_type": "code",
        "colab": {}
      },
      "source": [
        "discriminator.fit(x=inputs, y=outputs, epochs=10, verbose=0)"
      ],
      "execution_count": 0,
      "outputs": []
    },
    {
      "cell_type": "code",
      "metadata": {
        "id": "mh8rdX-EMlA9",
        "colab_type": "code",
        "cellView": "both",
        "colab": {}
      },
      "source": [
        "#@title Discriminatorの出力\n",
        "for x, y in dataset.batch(1000).take(1):\n",
        "  d_real = discriminator(x)\n",
        "  d_fake = discriminator(generator(tf.random.normal([1000,1,1,noise_dim])))\n",
        "  plt.hist(d_real[:,0,0,0], label='real')\n",
        "  plt.hist(d_fake[:,0,0,0], label='fake')"
      ],
      "execution_count": 0,
      "outputs": []
    },
    {
      "cell_type": "markdown",
      "metadata": {
        "id": "H8qefrxsuFDk",
        "colab_type": "text"
      },
      "source": [
        "# Generatorとdiscriminatorを戦わせる\n",
        "\n",
        "上のセルでは、discriminator（$D$）は、$D(x)$を大きくするように、$D(G(z))$を小さくするように学習している。これにより、$D$の値の大小で本物と偽物を見分けることができる。\n",
        "逆に、$D(G(z))$を大きくするような$G(z)$をgenerator（$G$）が生成できれば、それはdiscriminatorを騙したという意味で本物らしいということになる。\n",
        "ここで、discriminatorを再び学習させれば、本物らしくなった$G(z)$と$x$を見分けられるように判断基準を変えることになる。このとき、generatorは$D(G(z))$を大きくするために、その新たな判断基準でも見分けられないような$G(z)$を生成するように学習することになり…\n",
        "\n",
        "そこで、discriminatorが$D(x)$を大きく、$D(G(z))$を小さくするようにしながら、同時にgeneratorが$D(G(z))$を大きくするように学習することで、generatorとdiscriminatorが切磋琢磨しながら互いの精度を向上させて行くということが期待できる。これがGANの基本的な仕組みである。"
      ]
    },
    {
      "cell_type": "code",
      "metadata": {
        "id": "-JPTerCkK-eL",
        "colab_type": "code",
        "colab": {}
      },
      "source": [
        "def f(x):\n",
        "  return x\n",
        "\n",
        "# クロスエントロピーでフィッティングする場合\n",
        "#def f(x):\n",
        "#  return -tf.log1p(tf.exp(-x))\n",
        "\n",
        "@tf.contrib.eager.defun #これをつけた関数は最初の呼び出し時に最適化される\n",
        "def train_step(real, noise):\n",
        "  with tf.GradientTape() as g_tape, tf.GradientTape() as d_tape:\n",
        "    fake = generator(noise)\n",
        "\n",
        "    d_real = discriminator(real)\n",
        "    d_fake = discriminator(fake)\n",
        "\n",
        "    loss = f(d_real) + f(-d_fake)\n",
        "    g_loss = tf.reduce_mean(loss)\n",
        "    d_loss = tf.reduce_mean(-loss)\n",
        "\n",
        "  g_grads = g_tape.gradient(g_loss, generator.trainable_variables)\n",
        "  d_grads = d_tape.gradient(d_loss, discriminator.trainable_variables)\n",
        "  g_opt.apply_gradients(zip(g_grads, generator.trainable_variables))\n",
        "  d_opt.apply_gradients(zip(d_grads, discriminator.trainable_variables))\n",
        "  return d_loss\n",
        "\n",
        "g_opt = tf.train.AdamOptimizer(0.0002)\n",
        "d_opt = tf.train.AdamOptimizer(0.0002)\n",
        "epoch = 0"
      ],
      "execution_count": 0,
      "outputs": []
    },
    {
      "cell_type": "code",
      "metadata": {
        "id": "QLTUlNNaTAm7",
        "colab_type": "code",
        "cellView": "both",
        "colab": {}
      },
      "source": [
        "import time\n",
        "\n",
        "for i in range(5):\n",
        "  t0 = time.time()\n",
        "  for x, y in dataset.shuffle(1000).batch(128):\n",
        "    loss = train_step(x, tf.random.normal([x.shape[0],1,1,noise_dim]))\n",
        "  t1 = time.time()\n",
        "  print(\"Epoch {}: loss={}, took {} sec.\".format(epoch, loss.numpy(), t1-t0))\n",
        "  epoch += 1"
      ],
      "execution_count": 0,
      "outputs": []
    },
    {
      "cell_type": "markdown",
      "metadata": {
        "id": "aJey12-qI5dH",
        "colab_type": "text"
      },
      "source": [
        "# Mode collapse\n",
        "\n",
        "上記のように構成したGANは、確かに任意の乱数について手書き数字に見える画像を生成するが、全てが「１」であったりして、MNISTの画像を網羅しているとは言い難い。\n",
        "これはmode collapseと呼ばれる現象で、GANの分野では中心的とも言える大きな問題になっている。\n",
        "\n",
        "Mode collapseについて考えるためには、データセットに含まれる画像がどのように「分布」しているのかを理解する必要がある。\n",
        "例えば、MNISTの「１」にはバリエーションがあり、傾きや線の太さが異なるが、\n",
        "画像としては互いに似ていて、ある「１」から別の「１」まで滑らかに変化されることができる。\n",
        "一方、「１」から「０」へ滑らかに変化させることはできない。\n",
        "したがって、MNISTに含まれる画像の分布は、いくつかの「島」から成っていると考えられる。\n",
        "この「島」（の頂点）をmodeと呼ぶ。Mode collapseは、generatorが一部の「島」に属する画像を全く生成しないように学習してしまう現象。\n",
        "\n",
        "Mode collapseの原因の一つに、discriminatorの学習のし過ぎがある。\n",
        "Discriminatorの学習が進むと、「島」の内部では$D$の値が大きく、外部では$D$の値が小さくなる。Generatorは$D$の傾きを見ながら入島を目指すのだが、discriminatorが「島」の内外をあまりはっきりと区別してしまうと、「島」から離れたところでは$D$の値が常に小さく、どちらに行けば「島」に近づけるのかわからなくなる。\n",
        "たまたまいくつかの「島」に入っていれば、もはやその「島」からは出ることができず、他の「島」の探索はできなくなる。\n",
        "直感的に言えば、discriminatorがやっとのことで偽物の判別をしていれば、generatorはその判断基準を読んで今後の偽物品質を向上することができるが、\n",
        "discriminatorがあまりにも余裕綽々と判別をしてしまうと、generatorにはその判断基準が想像もつかなくなり、現状の偽物をどのように改良すればよいかわからなくなってしまう。\n",
        "\n",
        "初期に提案されたGANの手法は、ほとんどこのmode collapseの対策と言ってもいいほどで、これまでに様々な対策が提案されている。\n",
        "多くの手法で共通する方針は、discriminatorの判断基準を「緩やか」にするというもので、\n",
        "$D$の値が「島」の境界で急激に大きくなることを防ぎ、「島」から離れたところにも情報（$D$の傾き、すなわち判断基準）が届くようにする。\n",
        "今回はその方針に従っているものの中で実装が比較的簡単なquadratic potential（[Su, 2018](https://arxiv.org/pdf/1811.07296.pdf)）を適用してみる。"
      ]
    },
    {
      "cell_type": "code",
      "metadata": {
        "id": "OYRgUTMh66IS",
        "colab_type": "code",
        "colab": {}
      },
      "source": [
        "# Dの傾きを求める\n",
        "# これを小さくするようにdiscriminatorに制約をかける\n",
        "def quadratic_potential(dx, dy, _lambda=.01, _epsilon=1e-8, norm='L2'):\n",
        "  norm = norm.lower()\n",
        "  if norm == 'l1':\n",
        "    dx = tf.abs(dx)\n",
        "  elif norm == 'l2':\n",
        "    dx = tf.square(dx)\n",
        "  else:\n",
        "    raise ValueError('Unknown norm type: {}'.format(norm))\n",
        "\n",
        "  dx = tf.reduce_mean(tf.reshape(dx, [tf.shape(dx)[0],-1]))\n",
        "  if norm == 'l2':\n",
        "    dx = tf.sqrt(dx)\n",
        "\n",
        "  return tf.square(dy)/(dx*2*_lambda + _epsilon)\n",
        "\n",
        "@tf.contrib.eager.defun #これをつけた関数は最初の呼び出し時に最適化される\n",
        "def train_step(real, noise):\n",
        "  with tf.GradientTape() as g_tape, tf.GradientTape() as d_tape:\n",
        "    fake = generator(noise)\n",
        "\n",
        "    d_real = discriminator(real)\n",
        "    d_fake = discriminator(fake)\n",
        "\n",
        "    loss = f(d_real) + f(-d_fake)\n",
        "    g_loss = tf.reduce_mean(loss)\n",
        "    d_loss = tf.reduce_mean(-loss + quadratic_potential(fake-real, d_fake-d_real))\n",
        "\n",
        "  g_grads = g_tape.gradient(g_loss, generator.trainable_variables)\n",
        "  d_grads = d_tape.gradient(d_loss, discriminator.trainable_variables)\n",
        "  g_opt.apply_gradients(zip(g_grads, generator.trainable_variables))\n",
        "  d_opt.apply_gradients(zip(d_grads, discriminator.trainable_variables))\n",
        "  return d_loss\n",
        "\n",
        "epoch = 0\n",
        "g_opt = tf.train.AdamOptimizer(0.0002)\n",
        "d_opt = tf.train.AdamOptimizer(0.0002)"
      ],
      "execution_count": 0,
      "outputs": []
    },
    {
      "cell_type": "markdown",
      "metadata": {
        "id": "9EmVdO9-kcWq",
        "colab_type": "text"
      },
      "source": [
        "# 課題\n",
        "- ネットワーク構造をいじってみる\n",
        "  - チャネル数を増やしたらどうなる？\n",
        "  - カーネルのサイズを大きくしたらどうなる？\n",
        "  - 畳み込み層を増やしたらどうなる？\n",
        "- 学習率を変えてみる\n",
        "- Quadratic potentialの係数$\\lambda$(lambda)を変えてみる\n",
        "- データセットを変えてみる\n",
        "  - 「３」だけ学習させてみる\n",
        "  - Fashion MNISTにしてみる\n",
        "  - その他、カラーのデータセット（CIFARなど）にしてみる\n",
        "- 学習による生成画像の変化を追ってみる\n",
        "- 色々な画像の間を補間してみる"
      ]
    }
  ]
}